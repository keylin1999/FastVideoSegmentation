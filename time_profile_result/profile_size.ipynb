{
 "cells": [
  {
   "cell_type": "code",
   "execution_count": 5,
   "metadata": {},
   "outputs": [],
   "source": [
    "import torch\n",
    "from model_training.network import str2Model\n",
    "from model_training.dataset import CAGTestDataset\n",
    "from torchvision import transforms\n",
    "import time\n",
    "\n",
    "class MockEvent:\n",
    "    def __init__(self):\n",
    "        pass\n",
    "    def record(self):\n",
    "        self.time = time.time()\n",
    "    def elapsed_time(self, end):\n",
    "        return (end.time - self.time) * 1000\n",
    "\n",
    "def run(device):\n",
    "    start = torch.mps.Event(enable_timing=True)\n",
    "    end = torch.mps.Event(enable_timing=True)\n",
    "\n",
    "    if device == 'cpu':\n",
    "        start = MockEvent()\n",
    "        end = MockEvent()\n",
    "\n",
    "    model = torch.load('output/checkpoint_50000.pth', map_location=torch.device('cpu'))\n",
    "    model2 = str2Model(model['model_type'])()\n",
    "    model = model['network']\n",
    "    model2.load_state_dict(model)\n",
    "    model = model2.eval()\n",
    "    model = model.to(device)\n",
    "\n",
    "    dataset = CAGTestDataset()\n",
    "\n",
    "    size = [32, 64, 128, 192, 256, 384, 512]\n",
    "    l = []\n",
    "\n",
    "    for i, s in enumerate(size):\n",
    "        img, label = dataset[i]\n",
    "        img = transforms.Resize((s, s))(img)\n",
    "        img = img.to(device)\n",
    "        img = img.unsqueeze(0)\n",
    "\n",
    "        for _ in range(5):\n",
    "            model(torch.rand_like(img))\n",
    "        start.record()\n",
    "        model(img)\n",
    "        end.record()\n",
    "        if device == 'mps':\n",
    "            torch.mps.synchronize()\n",
    "        t = start.elapsed_time(end)\n",
    "        l.append(t)\n",
    "    return l\n",
    "\n",
    "    "
   ]
  },
  {
   "cell_type": "code",
   "execution_count": 6,
   "metadata": {},
   "outputs": [
    {
     "name": "stderr",
     "output_type": "stream",
     "text": [
      "/Users/scope/Downloads/thes/env/lib/python3.12/site-packages/torchvision/models/_utils.py:208: UserWarning: The parameter 'pretrained' is deprecated since 0.13 and may be removed in the future, please use 'weights' instead.\n",
      "  warnings.warn(\n",
      "/Users/scope/Downloads/thes/env/lib/python3.12/site-packages/torchvision/models/_utils.py:223: UserWarning: Arguments other than a weight enum or `None` for 'weights' are deprecated since 0.13 and may be removed in the future. The current behavior is equivalent to passing `weights=ResNet18_Weights.IMAGENET1K_V1`. You can also use `weights=ResNet18_Weights.DEFAULT` to get the most up-to-date weights.\n",
      "  warnings.warn(msg)\n"
     ]
    },
    {
     "data": {
      "text/plain": [
       "[7.694291,\n",
       " 6.7687919999999995,\n",
       " 6.10575,\n",
       " 8.721916,\n",
       " 9.681208,\n",
       " 17.98275,\n",
       " 30.364749999999997]"
      ]
     },
     "execution_count": 6,
     "metadata": {},
     "output_type": "execute_result"
    }
   ],
   "source": [
    "run('mps')"
   ]
  },
  {
   "cell_type": "code",
   "execution_count": 7,
   "metadata": {},
   "outputs": [
    {
     "name": "stderr",
     "output_type": "stream",
     "text": [
      "/Users/scope/Downloads/thes/env/lib/python3.12/site-packages/torchvision/models/_utils.py:208: UserWarning: The parameter 'pretrained' is deprecated since 0.13 and may be removed in the future, please use 'weights' instead.\n",
      "  warnings.warn(\n",
      "/Users/scope/Downloads/thes/env/lib/python3.12/site-packages/torchvision/models/_utils.py:223: UserWarning: Arguments other than a weight enum or `None` for 'weights' are deprecated since 0.13 and may be removed in the future. The current behavior is equivalent to passing `weights=ResNet18_Weights.IMAGENET1K_V1`. You can also use `weights=ResNet18_Weights.DEFAULT` to get the most up-to-date weights.\n",
      "  warnings.warn(msg)\n"
     ]
    },
    {
     "data": {
      "text/plain": [
       "[8.825063705444336,\n",
       " 5.953788757324219,\n",
       " 20.135164260864258,\n",
       " 43.57504844665527,\n",
       " 86.02476119995117,\n",
       " 205.21283149719238,\n",
       " 408.39409828186035]"
      ]
     },
     "execution_count": 7,
     "metadata": {},
     "output_type": "execute_result"
    }
   ],
   "source": [
    "run('cpu')"
   ]
  },
  {
   "cell_type": "code",
   "execution_count": null,
   "metadata": {},
   "outputs": [],
   "source": []
  }
 ],
 "metadata": {
  "kernelspec": {
   "display_name": "env",
   "language": "python",
   "name": "python3"
  },
  "language_info": {
   "codemirror_mode": {
    "name": "ipython",
    "version": 3
   },
   "file_extension": ".py",
   "mimetype": "text/x-python",
   "name": "python",
   "nbconvert_exporter": "python",
   "pygments_lexer": "ipython3",
   "version": "3.12.3"
  }
 },
 "nbformat": 4,
 "nbformat_minor": 2
}
